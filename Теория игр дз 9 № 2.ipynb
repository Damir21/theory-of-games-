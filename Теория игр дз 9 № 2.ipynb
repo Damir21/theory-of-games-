{
 "cells": [
  {
   "cell_type": "code",
   "execution_count": 1,
   "id": "3dfcaacc",
   "metadata": {},
   "outputs": [
    {
     "data": {
      "text/plain": [
       "{'1': {'A': 0, 'B': 1, 'C': 2},\n",
       " '2': {'A': 0, 'B': 1, 'C': 2},\n",
       " '3': {'A': 0, 'B': 1, 'C': 2}}"
      ]
     },
     "execution_count": 1,
     "metadata": {},
     "output_type": "execute_result"
    }
   ],
   "source": [
    "def pref_to_rank(pref):\n",
    "    return {\n",
    "        a: {b: idx for idx, b in enumerate(a_pref)}\n",
    "        for a, a_pref in pref.items()\n",
    "    }\n",
    "\n",
    "\n",
    "pref_to_rank(\n",
    "    {\n",
    "        \"1\": [\"A\", \"B\", \"C\"],\n",
    "        \"2\": [\"A\", \"B\", \"C\"],\n",
    "        \"3\": [\"A\", \"B\", \"C\"],\n",
    "    }\n",
    ")"
   ]
  },
  {
   "cell_type": "code",
   "execution_count": 2,
   "id": "34e3aea6",
   "metadata": {},
   "outputs": [],
   "source": [
    "from collections import namedtuple\n",
    "\n",
    "Pair = namedtuple(\"Pair\", [\"male\", \"female\"])"
   ]
  },
  {
   "cell_type": "code",
   "execution_count": 3,
   "id": "90dc9280",
   "metadata": {},
   "outputs": [],
   "source": [
    "from itertools import permutations\n",
    "\n",
    "\n",
    "def stable_matching_bf(\n",
    "    *, males, females, males_pref, females_pref\n",
    "):\n",
    "    \"\"\"Будем решать задачу для нахождения стабильных мэтчингов \n",
    "    путем полного перебора. На вход данной функции подается описание множеств \n",
    "    мужчин и женщин, а также их предпочтения.\n",
    "    \"\"\"\n",
    "    m_rank = pref_to_rank(males_pref)\n",
    "    f_rank = pref_to_rank(females_pref)\n",
    "    # для того, чтобы удобно было сравнивать предпочтения между собой \n",
    "    # введем для них числовую интерпретацию\n",
    "    m_seq = tuple(males)\n",
    "    matchings = (\n",
    "        [\n",
    "            Pair(male=m, female=f)\n",
    "            for m, f in zip(m_seq, f_seq)\n",
    "        ]\n",
    "        for f_seq in permutations(females)\n",
    "    )\n",
    "    for matching in matchings:\n",
    "        match_m = {pair.male: pair for pair in matching}\n",
    "        match_f = {pair.female: pair for pair in matching}\n",
    "        # для каждого мэтчинга определяем условие нестабильности\n",
    "        unstable = any(\n",
    "            (\n",
    "                m_rank[m][f] < m_rank[m][match_m[m].female] and\n",
    "                f_rank[f][m] < f_rank[f][match_f[f].male]\n",
    "            )\n",
    "            for m in males\n",
    "            for f in females\n",
    "            if m != match_f[f].male\n",
    "            if f != match_m[m].female\n",
    "        )\n",
    "        if not unstable:\n",
    "            print(matching)"
   ]
  },
  {
   "cell_type": "code",
   "execution_count": 6,
   "id": "a073a410",
   "metadata": {},
   "outputs": [
    {
     "name": "stdout",
     "output_type": "stream",
     "text": [
      "[Pair(male='C', female='3'), Pair(male='B', female='2'), Pair(male='A', female='1'), Pair(male='D', female='4')]\n"
     ]
    }
   ],
   "source": [
    "# Пункт 1 \n",
    "# заметим, что \"alone\", вообще говоря, лишняя опция, игроки до нее никогда не доходят.\n",
    "stable_matching_bf(\n",
    "    males={\"A\", \"B\", \"C\", \"D\"},\n",
    "    females={\"1\", \"2\", \"3\", \"4\"},\n",
    "    males_pref={\n",
    "        \"A\": [\"1\", \"2\", \"3\", \"4\", \"alone\"],\n",
    "        \"B\": [\"1\", \"2\", \"3\", \"4\", \"alone\"],\n",
    "        \"C\": [\"1\", \"2\", \"3\", \"4\", \"alone\"],\n",
    "        \"D\": [\"1\", \"2\", \"3\", \"4\", \"alone\"],\n",
    "    },\n",
    "    females_pref={\n",
    "        \"1\": [\"A\", \"C\", \"D\", \"B\", \"alone\"],\n",
    "        \"2\": [\"B\", \"C\", \"D\", \"A\", \"alone\"],\n",
    "        \"3\": [\"C\", \"B\", \"D\", \"A\", \"alone\"],\n",
    "        \"4\": [\"D\", \"A\", \"B\", \"C\", \"alone\"],\n",
    "    },\n",
    ")"
   ]
  },
  {
   "cell_type": "code",
   "execution_count": 8,
   "id": "47cb909a",
   "metadata": {},
   "outputs": [
    {
     "name": "stdout",
     "output_type": "stream",
     "text": [
      "[Pair(male='C', female='2'), Pair(male='B', female='3'), Pair(male='A', female='1'), Pair(male='D', female='4')]\n",
      "[Pair(male='C', female='3'), Pair(male='B', female='2'), Pair(male='A', female='1'), Pair(male='D', female='4')]\n"
     ]
    }
   ],
   "source": [
    "# Пункт 2 \n",
    "\n",
    "stable_matching_bf(\n",
    "    males={\"A\", \"B\", \"C\", \"D\"},\n",
    "    females={\"1\", \"2\", \"3\", \"4\"},\n",
    "    males_pref={\n",
    "        \"A\": [\"1\", \"2\", \"3\", \"4\", \"alone\"],\n",
    "        \"B\": [\"1\", \"3\", \"2\", \"4\", \"alone\"],\n",
    "        \"C\": [\"1\", \"2\", \"3\", \"4\", \"alone\"],\n",
    "        \"D\": [\"1\", \"2\", \"3\", \"4\", \"alone\"],\n",
    "    },\n",
    "    females_pref={\n",
    "        \"1\": [\"A\", \"C\", \"D\", \"B\", \"alone\"],\n",
    "        \"2\": [\"B\", \"C\", \"D\", \"A\", \"alone\"],\n",
    "        \"3\": [\"C\", \"B\", \"D\", \"A\", \"alone\"],\n",
    "        \"4\": [\"D\", \"A\", \"B\", \"C\", \"alone\"],\n",
    "    },\n",
    ")"
   ]
  },
  {
   "cell_type": "code",
   "execution_count": 9,
   "id": "ebd9410c",
   "metadata": {},
   "outputs": [
    {
     "name": "stdout",
     "output_type": "stream",
     "text": [
      "[Pair(male='C', female='2'), Pair(male='B', female='3'), Pair(male='A', female='1'), Pair(male='D', female='4')]\n",
      "[Pair(male='C', female='2'), Pair(male='B', female='1'), Pair(male='A', female='4'), Pair(male='D', female='3')]\n",
      "[Pair(male='C', female='4'), Pair(male='B', female='1'), Pair(male='A', female='2'), Pair(male='D', female='3')]\n"
     ]
    }
   ],
   "source": [
    "# Пункт 3, в котором я забыл условия..\n",
    "# заметим, что \"alone\", вообще говоря, лишняя опция, игроки до нее никогда не доходят.\n",
    "stable_matching_bf(\n",
    "    males={\"A\", \"B\", \"C\", \"D\"},\n",
    "    females={\"1\", \"2\", \"3\", \"4\"},\n",
    "    males_pref={\n",
    "        \"A\": [\"2\", \"3\", \"4\", \"1\", \"alone\"],\n",
    "        \"B\": [\"1\", \"2\", \"3\", \"4\", \"alone\"],\n",
    "        \"C\": [\"4\", \"1\", \"2\", \"3\", \"alone\"],\n",
    "        \"D\": [\"3\", \"4\", \"1\", \"2\", \"alone\"],\n",
    "    },\n",
    "    females_pref={\n",
    "        \"1\": [\"A\", \"B\", \"C\", \"D\", \"alone\"],\n",
    "        \"2\": [\"C\", \"D\", \"A\", \"B\", \"alone\"],\n",
    "        \"3\": [\"B\", \"C\", \"D\", \"A\", \"alone\"],\n",
    "        \"4\": [\"D\", \"A\", \"B\", \"C\", \"alone\"],\n",
    "    },\n",
    ")"
   ]
  },
  {
   "cell_type": "markdown",
   "id": "c56aeb6e",
   "metadata": {},
   "source": [
    "#### Вообще говоря, интересное наблюдение, что 3 мэтчинга получается, если хочется сделать какие-то несимметричные паросочетания в мэтчингах, получающихся из M-proposing и F-proposing DAA. \n"
   ]
  },
  {
   "cell_type": "code",
   "execution_count": null,
   "id": "ab2310f8",
   "metadata": {},
   "outputs": [],
   "source": []
  }
 ],
 "metadata": {
  "kernelspec": {
   "display_name": "Python 3",
   "language": "python",
   "name": "python3"
  },
  "language_info": {
   "codemirror_mode": {
    "name": "ipython",
    "version": 3
   },
   "file_extension": ".py",
   "mimetype": "text/x-python",
   "name": "python",
   "nbconvert_exporter": "python",
   "pygments_lexer": "ipython3",
   "version": "3.8.8"
  }
 },
 "nbformat": 4,
 "nbformat_minor": 5
}
